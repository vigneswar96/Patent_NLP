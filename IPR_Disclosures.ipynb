{
 "cells": [
  {
   "cell_type": "code",
   "execution_count": 9,
   "id": "initial_id",
   "metadata": {
    "collapsed": true,
    "ExecuteTime": {
     "end_time": "2024-04-04T00:48:19.964818100Z",
     "start_time": "2024-04-04T00:48:19.948816Z"
    }
   },
   "outputs": [],
   "source": [
    "import pandas as pd \n",
    "import numpy as np \n",
    "import pretty_errors"
   ]
  },
  {
   "cell_type": "code",
   "outputs": [],
   "source": [
    "df = pd.read_csv(\"E:\\Walsh_work\\DynamicReport_2023-12-08_173218.csv\",low_memory=False,skiprows=16)"
   ],
   "metadata": {
    "collapsed": false,
    "ExecuteTime": {
     "end_time": "2024-04-04T00:46:02.433707400Z",
     "start_time": "2024-04-04T00:45:45.372710400Z"
    }
   },
   "id": "1fdf19421464c672",
   "execution_count": 2
  },
  {
   "cell_type": "code",
   "outputs": [
    {
     "data": {
      "text/plain": "        ETSI Projects   Standards             Declarant Company   \n0                 NaN         NaN  Andrew Wireless Systems GmbH  \\\n1                 NaN         NaN  Andrew Wireless Systems GmbH   \n2                 NaN         NaN               BLACKBERRY LTD.   \n3                 NaN         NaN               BLACKBERRY LTD.   \n4                 NaN         NaN               BLACKBERRY LTD.   \n...               ...         ...                           ...   \n5320671          xDSL  TS 102 973          Koninklijke KPN N.V.   \n5320672          xDSL  TS 102 973          Koninklijke KPN N.V.   \n5320673          xDSL  TS 102 973          Koninklijke KPN N.V.   \n5320674          xDSL  TS 102 973          Koninklijke KPN N.V.   \n5320675          xDSL  TS 102 973          Koninklijke KPN N.V.   \n\n                        Patent Families Application Number   \n0                                   NaN           62194140  \\\n1                                   NaN           62213899   \n2        |US20090187636P|US20100817154|      US20100817154   \n3        |US20090187636P|US20100817154|      US20100817154   \n4        |US20090187636P|US20100817154|      US20100817154   \n...                                 ...                ...   \n5320671                 |EP20070002405|      US20080012605   \n5320672                 |EP20070002405|     US201213690134   \n5320673                 |EP20070002405|     US201213690134   \n5320674                 |EP20070002405|     US201213690679   \n5320675                 |EP20070002405|     US201213690972   \n\n                  Publication Numbers   \n0                                 NaN  \\\n1                                 NaN   \n2        US2010316000 A1|US8861433 B2   \n3        US2010316000 A1|US8861433 B2   \n4        US2010316000 A1|US8861433 B2   \n...                               ...   \n5320671  US2008186980 A1|US8340107 B2   \n5320672  US2013089108 A1|US8964768 B2   \n5320673  US2013089108 A1|US8964768 B2   \n5320674               US2013114608 A1   \n5320675               US2013114609 A1   \n\n                                                     Title   \n0                                                      NaN  \\\n1                                                      NaN   \n2        METHOD FOR ACCESSING A SERVICE UNAVAILABLE THR...   \n3        METHOD FOR ACCESSING A SERVICE UNAVAILABLE THR...   \n4        METHOD FOR ACCESSING A SERVICE UNAVAILABLE THR...   \n...                                                    ...   \n5320671                  VLAN numbering in access networks   \n5320672                  VLAN Numbering In Access Networks   \n5320673                  VLAN Numbering In Access Networks   \n5320674                  VLAN Numbering In Access Networks   \n5320675                  VLAN Numbering In Access Networks   \n\n              Patent Offices     Declarations       IPR Disclosures   \n0        US  (UNITED STATES)  ISLD-201603-003  Disclosure number  1  \\\n1        US  (UNITED STATES)  ISLD-201603-003  Disclosure number  2   \n2        US  (UNITED STATES)  ISLD-201608-023  Disclosure number  1   \n3        US  (UNITED STATES)  ISLD-201608-023  Disclosure number  1   \n4        US  (UNITED STATES)  ISLD-201608-024  Disclosure number  1   \n...                      ...              ...                   ...   \n5320671  US  (UNITED STATES)  ISLD-200807-003  Disclosure number  1   \n5320672  US  (UNITED STATES)  ISLD-200807-003  Disclosure number  1   \n5320673  US  (UNITED STATES)  ISLD-200807-003  Disclosure number  1   \n5320674  US  (UNITED STATES)  ISLD-200807-003  Disclosure number  1   \n5320675  US  (UNITED STATES)  ISLD-200807-003  Disclosure number  1   \n\n        Declaration Date  \n0             15-01-2016  \n1             15-01-2016  \n2             29-08-2016  \n3             29-08-2016  \n4             30-08-2016  \n...                  ...  \n5320671       24-06-2008  \n5320672       24-06-2008  \n5320673       24-06-2008  \n5320674       24-06-2008  \n5320675       24-06-2008  \n\n[5320676 rows x 11 columns]",
      "text/html": "<div>\n<style scoped>\n    .dataframe tbody tr th:only-of-type {\n        vertical-align: middle;\n    }\n\n    .dataframe tbody tr th {\n        vertical-align: top;\n    }\n\n    .dataframe thead th {\n        text-align: right;\n    }\n</style>\n<table border=\"1\" class=\"dataframe\">\n  <thead>\n    <tr style=\"text-align: right;\">\n      <th></th>\n      <th>ETSI Projects</th>\n      <th>Standards</th>\n      <th>Declarant Company</th>\n      <th>Patent Families</th>\n      <th>Application Number</th>\n      <th>Publication Numbers</th>\n      <th>Title</th>\n      <th>Patent Offices</th>\n      <th>Declarations</th>\n      <th>IPR Disclosures</th>\n      <th>Declaration Date</th>\n    </tr>\n  </thead>\n  <tbody>\n    <tr>\n      <th>0</th>\n      <td>NaN</td>\n      <td>NaN</td>\n      <td>Andrew Wireless Systems GmbH</td>\n      <td>NaN</td>\n      <td>62194140</td>\n      <td>NaN</td>\n      <td>NaN</td>\n      <td>US  (UNITED STATES)</td>\n      <td>ISLD-201603-003</td>\n      <td>Disclosure number  1</td>\n      <td>15-01-2016</td>\n    </tr>\n    <tr>\n      <th>1</th>\n      <td>NaN</td>\n      <td>NaN</td>\n      <td>Andrew Wireless Systems GmbH</td>\n      <td>NaN</td>\n      <td>62213899</td>\n      <td>NaN</td>\n      <td>NaN</td>\n      <td>US  (UNITED STATES)</td>\n      <td>ISLD-201603-003</td>\n      <td>Disclosure number  2</td>\n      <td>15-01-2016</td>\n    </tr>\n    <tr>\n      <th>2</th>\n      <td>NaN</td>\n      <td>NaN</td>\n      <td>BLACKBERRY LTD.</td>\n      <td>|US20090187636P|US20100817154|</td>\n      <td>US20100817154</td>\n      <td>US2010316000 A1|US8861433 B2</td>\n      <td>METHOD FOR ACCESSING A SERVICE UNAVAILABLE THR...</td>\n      <td>US  (UNITED STATES)</td>\n      <td>ISLD-201608-023</td>\n      <td>Disclosure number  1</td>\n      <td>29-08-2016</td>\n    </tr>\n    <tr>\n      <th>3</th>\n      <td>NaN</td>\n      <td>NaN</td>\n      <td>BLACKBERRY LTD.</td>\n      <td>|US20090187636P|US20100817154|</td>\n      <td>US20100817154</td>\n      <td>US2010316000 A1|US8861433 B2</td>\n      <td>METHOD FOR ACCESSING A SERVICE UNAVAILABLE THR...</td>\n      <td>US  (UNITED STATES)</td>\n      <td>ISLD-201608-023</td>\n      <td>Disclosure number  1</td>\n      <td>29-08-2016</td>\n    </tr>\n    <tr>\n      <th>4</th>\n      <td>NaN</td>\n      <td>NaN</td>\n      <td>BLACKBERRY LTD.</td>\n      <td>|US20090187636P|US20100817154|</td>\n      <td>US20100817154</td>\n      <td>US2010316000 A1|US8861433 B2</td>\n      <td>METHOD FOR ACCESSING A SERVICE UNAVAILABLE THR...</td>\n      <td>US  (UNITED STATES)</td>\n      <td>ISLD-201608-024</td>\n      <td>Disclosure number  1</td>\n      <td>30-08-2016</td>\n    </tr>\n    <tr>\n      <th>...</th>\n      <td>...</td>\n      <td>...</td>\n      <td>...</td>\n      <td>...</td>\n      <td>...</td>\n      <td>...</td>\n      <td>...</td>\n      <td>...</td>\n      <td>...</td>\n      <td>...</td>\n      <td>...</td>\n    </tr>\n    <tr>\n      <th>5320671</th>\n      <td>xDSL</td>\n      <td>TS 102 973</td>\n      <td>Koninklijke KPN N.V.</td>\n      <td>|EP20070002405|</td>\n      <td>US20080012605</td>\n      <td>US2008186980 A1|US8340107 B2</td>\n      <td>VLAN numbering in access networks</td>\n      <td>US  (UNITED STATES)</td>\n      <td>ISLD-200807-003</td>\n      <td>Disclosure number  1</td>\n      <td>24-06-2008</td>\n    </tr>\n    <tr>\n      <th>5320672</th>\n      <td>xDSL</td>\n      <td>TS 102 973</td>\n      <td>Koninklijke KPN N.V.</td>\n      <td>|EP20070002405|</td>\n      <td>US201213690134</td>\n      <td>US2013089108 A1|US8964768 B2</td>\n      <td>VLAN Numbering In Access Networks</td>\n      <td>US  (UNITED STATES)</td>\n      <td>ISLD-200807-003</td>\n      <td>Disclosure number  1</td>\n      <td>24-06-2008</td>\n    </tr>\n    <tr>\n      <th>5320673</th>\n      <td>xDSL</td>\n      <td>TS 102 973</td>\n      <td>Koninklijke KPN N.V.</td>\n      <td>|EP20070002405|</td>\n      <td>US201213690134</td>\n      <td>US2013089108 A1|US8964768 B2</td>\n      <td>VLAN Numbering In Access Networks</td>\n      <td>US  (UNITED STATES)</td>\n      <td>ISLD-200807-003</td>\n      <td>Disclosure number  1</td>\n      <td>24-06-2008</td>\n    </tr>\n    <tr>\n      <th>5320674</th>\n      <td>xDSL</td>\n      <td>TS 102 973</td>\n      <td>Koninklijke KPN N.V.</td>\n      <td>|EP20070002405|</td>\n      <td>US201213690679</td>\n      <td>US2013114608 A1</td>\n      <td>VLAN Numbering In Access Networks</td>\n      <td>US  (UNITED STATES)</td>\n      <td>ISLD-200807-003</td>\n      <td>Disclosure number  1</td>\n      <td>24-06-2008</td>\n    </tr>\n    <tr>\n      <th>5320675</th>\n      <td>xDSL</td>\n      <td>TS 102 973</td>\n      <td>Koninklijke KPN N.V.</td>\n      <td>|EP20070002405|</td>\n      <td>US201213690972</td>\n      <td>US2013114609 A1</td>\n      <td>VLAN Numbering In Access Networks</td>\n      <td>US  (UNITED STATES)</td>\n      <td>ISLD-200807-003</td>\n      <td>Disclosure number  1</td>\n      <td>24-06-2008</td>\n    </tr>\n  </tbody>\n</table>\n<p>5320676 rows × 11 columns</p>\n</div>"
     },
     "execution_count": 3,
     "metadata": {},
     "output_type": "execute_result"
    }
   ],
   "source": [
    "df"
   ],
   "metadata": {
    "collapsed": false,
    "ExecuteTime": {
     "end_time": "2024-04-04T00:46:02.470742500Z",
     "start_time": "2024-04-04T00:46:02.435743800Z"
    }
   },
   "id": "3e38a0d030c625d8",
   "execution_count": 3
  },
  {
   "cell_type": "code",
   "outputs": [
    {
     "data": {
      "text/plain": "0                 NaN\n1                 NaN\n2                 NaN\n3                 NaN\n4                 NaN\n              ...    \n5320671    TS 102 973\n5320672    TS 102 973\n5320673    TS 102 973\n5320674    TS 102 973\n5320675    TS 102 973\nName: Standards, Length: 5320676, dtype: object"
     },
     "execution_count": 4,
     "metadata": {},
     "output_type": "execute_result"
    }
   ],
   "source": [
    "df['Standards']"
   ],
   "metadata": {
    "collapsed": false,
    "ExecuteTime": {
     "end_time": "2024-04-04T00:46:25.639051100Z",
     "start_time": "2024-04-04T00:46:25.624895500Z"
    }
   },
   "id": "4a049f5a19819f12",
   "execution_count": 4
  },
  {
   "cell_type": "code",
   "outputs": [
    {
     "data": {
      "text/plain": "count       3758507\nunique        13745\ntop       TS 36.300\nfreq         190450\nName: Standards, dtype: object"
     },
     "execution_count": 5,
     "metadata": {},
     "output_type": "execute_result"
    }
   ],
   "source": [
    "df['Standards'].describe()"
   ],
   "metadata": {
    "collapsed": false,
    "ExecuteTime": {
     "end_time": "2024-04-04T00:46:48.873461500Z",
     "start_time": "2024-04-04T00:46:48.720450400Z"
    }
   },
   "id": "ff8140495616da82",
   "execution_count": 5
  },
  {
   "cell_type": "code",
   "outputs": [
    {
     "data": {
      "text/plain": "1562169"
     },
     "execution_count": 10,
     "metadata": {},
     "output_type": "execute_result"
    }
   ],
   "source": [
    "df['Standards'].isna().sum()"
   ],
   "metadata": {
    "collapsed": false,
    "ExecuteTime": {
     "end_time": "2024-04-04T00:48:25.621109100Z",
     "start_time": "2024-04-04T00:48:25.478078100Z"
    }
   },
   "id": "d46c71d7d7c5890a",
   "execution_count": 10
  },
  {
   "cell_type": "code",
   "outputs": [
    {
     "data": {
      "text/plain": "array([nan, 'TS 101 548 v1.3.1', 'EN 300 294 v1.3.2', ...,\n       'TS 101 548 v2.1.1', 'TS 101 952-1-6', 'TS 102 973'], dtype=object)"
     },
     "execution_count": 11,
     "metadata": {},
     "output_type": "execute_result"
    }
   ],
   "source": [
    "df['Standards'].unique()"
   ],
   "metadata": {
    "collapsed": false,
    "ExecuteTime": {
     "end_time": "2024-04-04T00:49:03.292853900Z",
     "start_time": "2024-04-04T00:49:03.282879200Z"
    }
   },
   "id": "b5e619374d0af2fe",
   "execution_count": 11
  },
  {
   "cell_type": "markdown",
   "source": [
    "### Lets see\n",
    "### Here there are 13,746 rows of unique Standards available. "
   ],
   "metadata": {
    "collapsed": false
   },
   "id": "f90d08cbbd4c1f05"
  },
  {
   "cell_type": "code",
   "outputs": [
    {
     "data": {
      "text/plain": "        ETSI Projects   Standards             Declarant Company   \n0                 NaN         NaN  Andrew Wireless Systems GmbH  \\\n1                 NaN         NaN  Andrew Wireless Systems GmbH   \n2                 NaN         NaN               BLACKBERRY LTD.   \n3                 NaN         NaN               BLACKBERRY LTD.   \n4                 NaN         NaN               BLACKBERRY LTD.   \n...               ...         ...                           ...   \n5320671          xDSL  TS 102 973          Koninklijke KPN N.V.   \n5320672          xDSL  TS 102 973          Koninklijke KPN N.V.   \n5320673          xDSL  TS 102 973          Koninklijke KPN N.V.   \n5320674          xDSL  TS 102 973          Koninklijke KPN N.V.   \n5320675          xDSL  TS 102 973          Koninklijke KPN N.V.   \n\n                        Patent Families Application Number   \n0                                   NaN           62194140  \\\n1                                   NaN           62213899   \n2        |US20090187636P|US20100817154|      US20100817154   \n3        |US20090187636P|US20100817154|      US20100817154   \n4        |US20090187636P|US20100817154|      US20100817154   \n...                                 ...                ...   \n5320671                 |EP20070002405|      US20080012605   \n5320672                 |EP20070002405|     US201213690134   \n5320673                 |EP20070002405|     US201213690134   \n5320674                 |EP20070002405|     US201213690679   \n5320675                 |EP20070002405|     US201213690972   \n\n                  Publication Numbers   \n0                                 NaN  \\\n1                                 NaN   \n2        US2010316000 A1|US8861433 B2   \n3        US2010316000 A1|US8861433 B2   \n4        US2010316000 A1|US8861433 B2   \n...                               ...   \n5320671  US2008186980 A1|US8340107 B2   \n5320672  US2013089108 A1|US8964768 B2   \n5320673  US2013089108 A1|US8964768 B2   \n5320674               US2013114608 A1   \n5320675               US2013114609 A1   \n\n                                                     Title   \n0                                                      NaN  \\\n1                                                      NaN   \n2        METHOD FOR ACCESSING A SERVICE UNAVAILABLE THR...   \n3        METHOD FOR ACCESSING A SERVICE UNAVAILABLE THR...   \n4        METHOD FOR ACCESSING A SERVICE UNAVAILABLE THR...   \n...                                                    ...   \n5320671                  VLAN numbering in access networks   \n5320672                  VLAN Numbering In Access Networks   \n5320673                  VLAN Numbering In Access Networks   \n5320674                  VLAN Numbering In Access Networks   \n5320675                  VLAN Numbering In Access Networks   \n\n              Patent Offices     Declarations       IPR Disclosures   \n0        US  (UNITED STATES)  ISLD-201603-003  Disclosure number  1  \\\n1        US  (UNITED STATES)  ISLD-201603-003  Disclosure number  2   \n2        US  (UNITED STATES)  ISLD-201608-023  Disclosure number  1   \n3        US  (UNITED STATES)  ISLD-201608-023  Disclosure number  1   \n4        US  (UNITED STATES)  ISLD-201608-024  Disclosure number  1   \n...                      ...              ...                   ...   \n5320671  US  (UNITED STATES)  ISLD-200807-003  Disclosure number  1   \n5320672  US  (UNITED STATES)  ISLD-200807-003  Disclosure number  1   \n5320673  US  (UNITED STATES)  ISLD-200807-003  Disclosure number  1   \n5320674  US  (UNITED STATES)  ISLD-200807-003  Disclosure number  1   \n5320675  US  (UNITED STATES)  ISLD-200807-003  Disclosure number  1   \n\n        Declaration Date  \n0             15-01-2016  \n1             15-01-2016  \n2             29-08-2016  \n3             29-08-2016  \n4             30-08-2016  \n...                  ...  \n5320671       24-06-2008  \n5320672       24-06-2008  \n5320673       24-06-2008  \n5320674       24-06-2008  \n5320675       24-06-2008  \n\n[5312816 rows x 11 columns]",
      "text/html": "<div>\n<style scoped>\n    .dataframe tbody tr th:only-of-type {\n        vertical-align: middle;\n    }\n\n    .dataframe tbody tr th {\n        vertical-align: top;\n    }\n\n    .dataframe thead th {\n        text-align: right;\n    }\n</style>\n<table border=\"1\" class=\"dataframe\">\n  <thead>\n    <tr style=\"text-align: right;\">\n      <th></th>\n      <th>ETSI Projects</th>\n      <th>Standards</th>\n      <th>Declarant Company</th>\n      <th>Patent Families</th>\n      <th>Application Number</th>\n      <th>Publication Numbers</th>\n      <th>Title</th>\n      <th>Patent Offices</th>\n      <th>Declarations</th>\n      <th>IPR Disclosures</th>\n      <th>Declaration Date</th>\n    </tr>\n  </thead>\n  <tbody>\n    <tr>\n      <th>0</th>\n      <td>NaN</td>\n      <td>NaN</td>\n      <td>Andrew Wireless Systems GmbH</td>\n      <td>NaN</td>\n      <td>62194140</td>\n      <td>NaN</td>\n      <td>NaN</td>\n      <td>US  (UNITED STATES)</td>\n      <td>ISLD-201603-003</td>\n      <td>Disclosure number  1</td>\n      <td>15-01-2016</td>\n    </tr>\n    <tr>\n      <th>1</th>\n      <td>NaN</td>\n      <td>NaN</td>\n      <td>Andrew Wireless Systems GmbH</td>\n      <td>NaN</td>\n      <td>62213899</td>\n      <td>NaN</td>\n      <td>NaN</td>\n      <td>US  (UNITED STATES)</td>\n      <td>ISLD-201603-003</td>\n      <td>Disclosure number  2</td>\n      <td>15-01-2016</td>\n    </tr>\n    <tr>\n      <th>2</th>\n      <td>NaN</td>\n      <td>NaN</td>\n      <td>BLACKBERRY LTD.</td>\n      <td>|US20090187636P|US20100817154|</td>\n      <td>US20100817154</td>\n      <td>US2010316000 A1|US8861433 B2</td>\n      <td>METHOD FOR ACCESSING A SERVICE UNAVAILABLE THR...</td>\n      <td>US  (UNITED STATES)</td>\n      <td>ISLD-201608-023</td>\n      <td>Disclosure number  1</td>\n      <td>29-08-2016</td>\n    </tr>\n    <tr>\n      <th>3</th>\n      <td>NaN</td>\n      <td>NaN</td>\n      <td>BLACKBERRY LTD.</td>\n      <td>|US20090187636P|US20100817154|</td>\n      <td>US20100817154</td>\n      <td>US2010316000 A1|US8861433 B2</td>\n      <td>METHOD FOR ACCESSING A SERVICE UNAVAILABLE THR...</td>\n      <td>US  (UNITED STATES)</td>\n      <td>ISLD-201608-023</td>\n      <td>Disclosure number  1</td>\n      <td>29-08-2016</td>\n    </tr>\n    <tr>\n      <th>4</th>\n      <td>NaN</td>\n      <td>NaN</td>\n      <td>BLACKBERRY LTD.</td>\n      <td>|US20090187636P|US20100817154|</td>\n      <td>US20100817154</td>\n      <td>US2010316000 A1|US8861433 B2</td>\n      <td>METHOD FOR ACCESSING A SERVICE UNAVAILABLE THR...</td>\n      <td>US  (UNITED STATES)</td>\n      <td>ISLD-201608-024</td>\n      <td>Disclosure number  1</td>\n      <td>30-08-2016</td>\n    </tr>\n    <tr>\n      <th>...</th>\n      <td>...</td>\n      <td>...</td>\n      <td>...</td>\n      <td>...</td>\n      <td>...</td>\n      <td>...</td>\n      <td>...</td>\n      <td>...</td>\n      <td>...</td>\n      <td>...</td>\n      <td>...</td>\n    </tr>\n    <tr>\n      <th>5320671</th>\n      <td>xDSL</td>\n      <td>TS 102 973</td>\n      <td>Koninklijke KPN N.V.</td>\n      <td>|EP20070002405|</td>\n      <td>US20080012605</td>\n      <td>US2008186980 A1|US8340107 B2</td>\n      <td>VLAN numbering in access networks</td>\n      <td>US  (UNITED STATES)</td>\n      <td>ISLD-200807-003</td>\n      <td>Disclosure number  1</td>\n      <td>24-06-2008</td>\n    </tr>\n    <tr>\n      <th>5320672</th>\n      <td>xDSL</td>\n      <td>TS 102 973</td>\n      <td>Koninklijke KPN N.V.</td>\n      <td>|EP20070002405|</td>\n      <td>US201213690134</td>\n      <td>US2013089108 A1|US8964768 B2</td>\n      <td>VLAN Numbering In Access Networks</td>\n      <td>US  (UNITED STATES)</td>\n      <td>ISLD-200807-003</td>\n      <td>Disclosure number  1</td>\n      <td>24-06-2008</td>\n    </tr>\n    <tr>\n      <th>5320673</th>\n      <td>xDSL</td>\n      <td>TS 102 973</td>\n      <td>Koninklijke KPN N.V.</td>\n      <td>|EP20070002405|</td>\n      <td>US201213690134</td>\n      <td>US2013089108 A1|US8964768 B2</td>\n      <td>VLAN Numbering In Access Networks</td>\n      <td>US  (UNITED STATES)</td>\n      <td>ISLD-200807-003</td>\n      <td>Disclosure number  1</td>\n      <td>24-06-2008</td>\n    </tr>\n    <tr>\n      <th>5320674</th>\n      <td>xDSL</td>\n      <td>TS 102 973</td>\n      <td>Koninklijke KPN N.V.</td>\n      <td>|EP20070002405|</td>\n      <td>US201213690679</td>\n      <td>US2013114608 A1</td>\n      <td>VLAN Numbering In Access Networks</td>\n      <td>US  (UNITED STATES)</td>\n      <td>ISLD-200807-003</td>\n      <td>Disclosure number  1</td>\n      <td>24-06-2008</td>\n    </tr>\n    <tr>\n      <th>5320675</th>\n      <td>xDSL</td>\n      <td>TS 102 973</td>\n      <td>Koninklijke KPN N.V.</td>\n      <td>|EP20070002405|</td>\n      <td>US201213690972</td>\n      <td>US2013114609 A1</td>\n      <td>VLAN Numbering In Access Networks</td>\n      <td>US  (UNITED STATES)</td>\n      <td>ISLD-200807-003</td>\n      <td>Disclosure number  1</td>\n      <td>24-06-2008</td>\n    </tr>\n  </tbody>\n</table>\n<p>5312816 rows × 11 columns</p>\n</div>"
     },
     "execution_count": 13,
     "metadata": {},
     "output_type": "execute_result"
    }
   ],
   "source": [
    "filtered_df= df[df['ETSI Projects']!='-']\n",
    "filtered_df"
   ],
   "metadata": {
    "collapsed": false,
    "ExecuteTime": {
     "end_time": "2024-04-04T00:51:12.199178700Z",
     "start_time": "2024-04-04T00:51:11.521197100Z"
    }
   },
   "id": "ac38ef3cb3c39d05",
   "execution_count": 13
  },
  {
   "cell_type": "code",
   "outputs": [
    {
     "data": {
      "text/plain": "13744"
     },
     "execution_count": 15,
     "metadata": {},
     "output_type": "execute_result"
    }
   ],
   "source": [
    "filtered_df['Standards'].nunique()"
   ],
   "metadata": {
    "collapsed": false,
    "ExecuteTime": {
     "end_time": "2024-04-04T00:51:51.807642900Z",
     "start_time": "2024-04-04T00:51:51.647621600Z"
    }
   },
   "id": "f112b2cc35dbebba",
   "execution_count": 15
  },
  {
   "cell_type": "code",
   "outputs": [
    {
     "data": {
      "text/plain": "8648       TS 101 548 v1.3.1\n8649       TS 101 548 v1.3.1\n8650       EN 300 294 v1.3.2\n8651       EN 300 294 v1.4.1\n8652       EN 300 706 v1.2.1\n                 ...        \n5320671           TS 102 973\n5320672           TS 102 973\n5320673           TS 102 973\n5320674           TS 102 973\n5320675           TS 102 973\nName: Standards, Length: 3753462, dtype: object"
     },
     "execution_count": 18,
     "metadata": {},
     "output_type": "execute_result"
    }
   ],
   "source": [
    "Standards_after_dropping_nans=filtered_df['Standards'].dropna()\n",
    "Standards_after_dropping_nans"
   ],
   "metadata": {
    "collapsed": false,
    "ExecuteTime": {
     "end_time": "2024-04-04T00:54:19.889595500Z",
     "start_time": "2024-04-04T00:54:19.691596100Z"
    }
   },
   "id": "e6d88687e2ba679f",
   "execution_count": 18
  },
  {
   "cell_type": "code",
   "outputs": [
    {
     "data": {
      "text/plain": "array(['TS 101 548 v1.3.1', 'EN 300 294 v1.3.2', 'EN 300 294 v1.4.1', ...,\n       'TS 101 548 v2.1.1', 'TS 101 952-1-6', 'TS 102 973'], dtype=object)"
     },
     "execution_count": 36,
     "metadata": {},
     "output_type": "execute_result"
    }
   ],
   "source": [
    "new_df = Standards_after_dropping_nans.unique()\n",
    "new_df"
   ],
   "metadata": {
    "collapsed": false,
    "ExecuteTime": {
     "end_time": "2024-04-04T01:15:49.731685200Z",
     "start_time": "2024-04-04T01:15:49.491654400Z"
    }
   },
   "id": "18893866c5677b3a",
   "execution_count": 36
  },
  {
   "cell_type": "code",
   "outputs": [
    {
     "data": {
      "text/plain": "(13744,)"
     },
     "execution_count": 41,
     "metadata": {},
     "output_type": "execute_result"
    }
   ],
   "source": [
    "new_df.shape"
   ],
   "metadata": {
    "collapsed": false,
    "ExecuteTime": {
     "end_time": "2024-04-04T01:21:22.157650800Z",
     "start_time": "2024-04-04T01:21:22.143653500Z"
    }
   },
   "id": "c3693f65ce80b6e8",
   "execution_count": 41
  },
  {
   "cell_type": "code",
   "outputs": [],
   "source": [],
   "metadata": {
    "collapsed": false
   },
   "id": "fe341d10edbb6f4b"
  }
 ],
 "metadata": {
  "kernelspec": {
   "display_name": "Python 3",
   "language": "python",
   "name": "python3"
  },
  "language_info": {
   "codemirror_mode": {
    "name": "ipython",
    "version": 2
   },
   "file_extension": ".py",
   "mimetype": "text/x-python",
   "name": "python",
   "nbconvert_exporter": "python",
   "pygments_lexer": "ipython2",
   "version": "2.7.6"
  }
 },
 "nbformat": 4,
 "nbformat_minor": 5
}
